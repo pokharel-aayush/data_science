{
 "cells": [
  {
   "cell_type": "code",
   "execution_count": 1,
   "id": "d97ee824-61e6-4102-9103-cdd2f261eaf9",
   "metadata": {},
   "outputs": [
    {
     "name": "stdout",
     "output_type": "stream",
     "text": [
      "Requirement already satisfied: matplotlib in c:\\users\\user\\appdata\\local\\programs\\python\\python313\\lib\\site-packages (3.10.3)\n",
      "Requirement already satisfied: contourpy>=1.0.1 in c:\\users\\user\\appdata\\local\\programs\\python\\python313\\lib\\site-packages (from matplotlib) (1.3.2)\n",
      "Requirement already satisfied: cycler>=0.10 in c:\\users\\user\\appdata\\local\\programs\\python\\python313\\lib\\site-packages (from matplotlib) (0.12.1)\n",
      "Requirement already satisfied: fonttools>=4.22.0 in c:\\users\\user\\appdata\\local\\programs\\python\\python313\\lib\\site-packages (from matplotlib) (4.58.4)\n",
      "Requirement already satisfied: kiwisolver>=1.3.1 in c:\\users\\user\\appdata\\local\\programs\\python\\python313\\lib\\site-packages (from matplotlib) (1.4.8)\n",
      "Requirement already satisfied: numpy>=1.23 in c:\\users\\user\\appdata\\local\\programs\\python\\python313\\lib\\site-packages (from matplotlib) (2.2.6)\n",
      "Requirement already satisfied: packaging>=20.0 in c:\\users\\user\\appdata\\local\\programs\\python\\python313\\lib\\site-packages (from matplotlib) (25.0)\n",
      "Requirement already satisfied: pillow>=8 in c:\\users\\user\\appdata\\local\\programs\\python\\python313\\lib\\site-packages (from matplotlib) (11.2.1)\n",
      "Requirement already satisfied: pyparsing>=2.3.1 in c:\\users\\user\\appdata\\local\\programs\\python\\python313\\lib\\site-packages (from matplotlib) (3.2.3)\n",
      "Requirement already satisfied: python-dateutil>=2.7 in c:\\users\\user\\appdata\\local\\programs\\python\\python313\\lib\\site-packages (from matplotlib) (2.9.0.post0)\n",
      "Requirement already satisfied: six>=1.5 in c:\\users\\user\\appdata\\local\\programs\\python\\python313\\lib\\site-packages (from python-dateutil>=2.7->matplotlib) (1.17.0)\n"
     ]
    }
   ],
   "source": [
    "!pip install matplotlib"
   ]
  },
  {
   "cell_type": "code",
   "execution_count": 2,
   "id": "710e91a0-53ba-4d9f-81be-4cec6693e34c",
   "metadata": {},
   "outputs": [
    {
     "name": "stdout",
     "output_type": "stream",
     "text": [
      "Requirement already satisfied: seaborn in c:\\users\\user\\appdata\\local\\programs\\python\\python313\\lib\\site-packages (0.13.2)\n",
      "Requirement already satisfied: numpy!=1.24.0,>=1.20 in c:\\users\\user\\appdata\\local\\programs\\python\\python313\\lib\\site-packages (from seaborn) (2.2.6)\n",
      "Requirement already satisfied: pandas>=1.2 in c:\\users\\user\\appdata\\local\\programs\\python\\python313\\lib\\site-packages (from seaborn) (2.3.0)\n",
      "Requirement already satisfied: matplotlib!=3.6.1,>=3.4 in c:\\users\\user\\appdata\\local\\programs\\python\\python313\\lib\\site-packages (from seaborn) (3.10.3)\n",
      "Requirement already satisfied: contourpy>=1.0.1 in c:\\users\\user\\appdata\\local\\programs\\python\\python313\\lib\\site-packages (from matplotlib!=3.6.1,>=3.4->seaborn) (1.3.2)\n",
      "Requirement already satisfied: cycler>=0.10 in c:\\users\\user\\appdata\\local\\programs\\python\\python313\\lib\\site-packages (from matplotlib!=3.6.1,>=3.4->seaborn) (0.12.1)\n",
      "Requirement already satisfied: fonttools>=4.22.0 in c:\\users\\user\\appdata\\local\\programs\\python\\python313\\lib\\site-packages (from matplotlib!=3.6.1,>=3.4->seaborn) (4.58.4)\n",
      "Requirement already satisfied: kiwisolver>=1.3.1 in c:\\users\\user\\appdata\\local\\programs\\python\\python313\\lib\\site-packages (from matplotlib!=3.6.1,>=3.4->seaborn) (1.4.8)\n",
      "Requirement already satisfied: packaging>=20.0 in c:\\users\\user\\appdata\\local\\programs\\python\\python313\\lib\\site-packages (from matplotlib!=3.6.1,>=3.4->seaborn) (25.0)\n",
      "Requirement already satisfied: pillow>=8 in c:\\users\\user\\appdata\\local\\programs\\python\\python313\\lib\\site-packages (from matplotlib!=3.6.1,>=3.4->seaborn) (11.2.1)\n",
      "Requirement already satisfied: pyparsing>=2.3.1 in c:\\users\\user\\appdata\\local\\programs\\python\\python313\\lib\\site-packages (from matplotlib!=3.6.1,>=3.4->seaborn) (3.2.3)\n",
      "Requirement already satisfied: python-dateutil>=2.7 in c:\\users\\user\\appdata\\local\\programs\\python\\python313\\lib\\site-packages (from matplotlib!=3.6.1,>=3.4->seaborn) (2.9.0.post0)\n",
      "Requirement already satisfied: pytz>=2020.1 in c:\\users\\user\\appdata\\local\\programs\\python\\python313\\lib\\site-packages (from pandas>=1.2->seaborn) (2025.2)\n",
      "Requirement already satisfied: tzdata>=2022.7 in c:\\users\\user\\appdata\\local\\programs\\python\\python313\\lib\\site-packages (from pandas>=1.2->seaborn) (2025.2)\n",
      "Requirement already satisfied: six>=1.5 in c:\\users\\user\\appdata\\local\\programs\\python\\python313\\lib\\site-packages (from python-dateutil>=2.7->matplotlib!=3.6.1,>=3.4->seaborn) (1.17.0)\n"
     ]
    }
   ],
   "source": [
    "!pip install seaborn"
   ]
  },
  {
   "cell_type": "code",
   "execution_count": 3,
   "id": "2a329302-e795-4520-846e-bdb304395b48",
   "metadata": {},
   "outputs": [],
   "source": [
    "import pandas as pd"
   ]
  },
  {
   "cell_type": "code",
   "execution_count": 4,
   "id": "44a58806-9b9e-47eb-9636-1306ad461040",
   "metadata": {},
   "outputs": [
    {
     "data": {
      "text/html": [
       "<div>\n",
       "<style scoped>\n",
       "    .dataframe tbody tr th:only-of-type {\n",
       "        vertical-align: middle;\n",
       "    }\n",
       "\n",
       "    .dataframe tbody tr th {\n",
       "        vertical-align: top;\n",
       "    }\n",
       "\n",
       "    .dataframe thead th {\n",
       "        text-align: right;\n",
       "    }\n",
       "</style>\n",
       "<table border=\"1\" class=\"dataframe\">\n",
       "  <thead>\n",
       "    <tr style=\"text-align: right;\">\n",
       "      <th></th>\n",
       "      <th>ID</th>\n",
       "      <th>Asst_Reg</th>\n",
       "      <th>GGGrade</th>\n",
       "      <th>Experience</th>\n",
       "      <th>Validation</th>\n",
       "      <th>Yearly_Income</th>\n",
       "      <th>Home_Status</th>\n",
       "      <th>Unpaid_2_years</th>\n",
       "      <th>Already_Defaulted</th>\n",
       "      <th>Designation</th>\n",
       "      <th>...</th>\n",
       "      <th>File_Status</th>\n",
       "      <th>State</th>\n",
       "      <th>Account_Open</th>\n",
       "      <th>Total_Unpaid_CL</th>\n",
       "      <th>Duration</th>\n",
       "      <th>Unpaid_Amount</th>\n",
       "      <th>Reason</th>\n",
       "      <th>Claim_Type</th>\n",
       "      <th>Due_Fee</th>\n",
       "      <th>Default</th>\n",
       "    </tr>\n",
       "  </thead>\n",
       "  <tbody>\n",
       "    <tr>\n",
       "      <th>0</th>\n",
       "      <td>95074</td>\n",
       "      <td>421802</td>\n",
       "      <td>II</td>\n",
       "      <td>&gt;10yrs</td>\n",
       "      <td>Vfied</td>\n",
       "      <td>633600.00</td>\n",
       "      <td>MORTGAGE</td>\n",
       "      <td>0</td>\n",
       "      <td>0</td>\n",
       "      <td>GLENDALE NISSAN</td>\n",
       "      <td>...</td>\n",
       "      <td>fully paid</td>\n",
       "      <td>California</td>\n",
       "      <td>17</td>\n",
       "      <td>58598.0</td>\n",
       "      <td>3 years</td>\n",
       "      <td>31216.05</td>\n",
       "      <td>debt  consolidation</td>\n",
       "      <td>I</td>\n",
       "      <td>0.0</td>\n",
       "      <td>0</td>\n",
       "    </tr>\n",
       "    <tr>\n",
       "      <th>1</th>\n",
       "      <td>134131</td>\n",
       "      <td>3964312</td>\n",
       "      <td>IV</td>\n",
       "      <td>7yrs</td>\n",
       "      <td>Source Verified</td>\n",
       "      <td>85483.20</td>\n",
       "      <td>RENT</td>\n",
       "      <td>0</td>\n",
       "      <td>0</td>\n",
       "      <td>Business Teacher</td>\n",
       "      <td>...</td>\n",
       "      <td>whole</td>\n",
       "      <td>NC</td>\n",
       "      <td>15</td>\n",
       "      <td>18924.0</td>\n",
       "      <td>5 years</td>\n",
       "      <td>11660.49</td>\n",
       "      <td>debt  consolidation</td>\n",
       "      <td>I</td>\n",
       "      <td>0.0</td>\n",
       "      <td>0</td>\n",
       "    </tr>\n",
       "    <tr>\n",
       "      <th>2</th>\n",
       "      <td>92602</td>\n",
       "      <td>4247560</td>\n",
       "      <td>III</td>\n",
       "      <td>&lt;1yr</td>\n",
       "      <td>Source Verified</td>\n",
       "      <td>79200.00</td>\n",
       "      <td>RENT</td>\n",
       "      <td>0</td>\n",
       "      <td>0</td>\n",
       "      <td>driver</td>\n",
       "      <td>...</td>\n",
       "      <td>whole</td>\n",
       "      <td>Florida</td>\n",
       "      <td>7</td>\n",
       "      <td>15604.0</td>\n",
       "      <td>5 years</td>\n",
       "      <td>5637.87</td>\n",
       "      <td>major  purchase</td>\n",
       "      <td>I</td>\n",
       "      <td>0.0</td>\n",
       "      <td>0</td>\n",
       "    </tr>\n",
       "    <tr>\n",
       "      <th>3</th>\n",
       "      <td>22591</td>\n",
       "      <td>197179</td>\n",
       "      <td>III</td>\n",
       "      <td>&lt;1yr</td>\n",
       "      <td>Vfied</td>\n",
       "      <td>61600.00</td>\n",
       "      <td>RENT</td>\n",
       "      <td>0</td>\n",
       "      <td>0</td>\n",
       "      <td>AvePoint</td>\n",
       "      <td>...</td>\n",
       "      <td>fully paid</td>\n",
       "      <td>NewJersey</td>\n",
       "      <td>9</td>\n",
       "      <td>22410.0</td>\n",
       "      <td>3 years</td>\n",
       "      <td>15607.17</td>\n",
       "      <td>major  purchase</td>\n",
       "      <td>I</td>\n",
       "      <td>0.0</td>\n",
       "      <td>1</td>\n",
       "    </tr>\n",
       "    <tr>\n",
       "      <th>4</th>\n",
       "      <td>125060</td>\n",
       "      <td>4646684</td>\n",
       "      <td>V</td>\n",
       "      <td>2yrs</td>\n",
       "      <td>Source Verified</td>\n",
       "      <td>68053.92</td>\n",
       "      <td>RENT</td>\n",
       "      <td>0</td>\n",
       "      <td>0</td>\n",
       "      <td>Lead Tester</td>\n",
       "      <td>...</td>\n",
       "      <td>fully paid</td>\n",
       "      <td>LA</td>\n",
       "      <td>10</td>\n",
       "      <td>36022.0</td>\n",
       "      <td>5 years</td>\n",
       "      <td>27472.86</td>\n",
       "      <td>debt  consolidation</td>\n",
       "      <td>I</td>\n",
       "      <td>0.0</td>\n",
       "      <td>0</td>\n",
       "    </tr>\n",
       "    <tr>\n",
       "      <th>...</th>\n",
       "      <td>...</td>\n",
       "      <td>...</td>\n",
       "      <td>...</td>\n",
       "      <td>...</td>\n",
       "      <td>...</td>\n",
       "      <td>...</td>\n",
       "      <td>...</td>\n",
       "      <td>...</td>\n",
       "      <td>...</td>\n",
       "      <td>...</td>\n",
       "      <td>...</td>\n",
       "      <td>...</td>\n",
       "      <td>...</td>\n",
       "      <td>...</td>\n",
       "      <td>...</td>\n",
       "      <td>...</td>\n",
       "      <td>...</td>\n",
       "      <td>...</td>\n",
       "      <td>...</td>\n",
       "      <td>...</td>\n",
       "      <td>...</td>\n",
       "    </tr>\n",
       "    <tr>\n",
       "      <th>87495</th>\n",
       "      <td>120884</td>\n",
       "      <td>4535984</td>\n",
       "      <td>II</td>\n",
       "      <td>&gt;10yrs</td>\n",
       "      <td>Not Vfied</td>\n",
       "      <td>75680.00</td>\n",
       "      <td>RENT</td>\n",
       "      <td>0</td>\n",
       "      <td>0</td>\n",
       "      <td>Engineer Support II</td>\n",
       "      <td>...</td>\n",
       "      <td>whole</td>\n",
       "      <td>MI</td>\n",
       "      <td>12</td>\n",
       "      <td>32702.0</td>\n",
       "      <td>3 years</td>\n",
       "      <td>10012.05</td>\n",
       "      <td>debt  consolidation</td>\n",
       "      <td>I</td>\n",
       "      <td>0.0</td>\n",
       "      <td>0</td>\n",
       "    </tr>\n",
       "    <tr>\n",
       "      <th>87496</th>\n",
       "      <td>33259</td>\n",
       "      <td>2624710</td>\n",
       "      <td>IV</td>\n",
       "      <td>3yrs</td>\n",
       "      <td>Source Verified</td>\n",
       "      <td>90423.52</td>\n",
       "      <td>RENT</td>\n",
       "      <td>0</td>\n",
       "      <td>0</td>\n",
       "      <td>Dental Hygienist</td>\n",
       "      <td>...</td>\n",
       "      <td>whole</td>\n",
       "      <td>MA</td>\n",
       "      <td>23</td>\n",
       "      <td>32204.0</td>\n",
       "      <td>5 years</td>\n",
       "      <td>24921.54</td>\n",
       "      <td>debt  consolidation</td>\n",
       "      <td>I</td>\n",
       "      <td>0.0</td>\n",
       "      <td>0</td>\n",
       "    </tr>\n",
       "    <tr>\n",
       "      <th>87497</th>\n",
       "      <td>102153</td>\n",
       "      <td>5966919</td>\n",
       "      <td>II</td>\n",
       "      <td>&gt;10yrs</td>\n",
       "      <td>Source Verified</td>\n",
       "      <td>91520.00</td>\n",
       "      <td>MORTGAGE</td>\n",
       "      <td>0</td>\n",
       "      <td>0</td>\n",
       "      <td>Interface Coordinator</td>\n",
       "      <td>...</td>\n",
       "      <td>fully paid</td>\n",
       "      <td>CT</td>\n",
       "      <td>8</td>\n",
       "      <td>29050.0</td>\n",
       "      <td>3 years</td>\n",
       "      <td>14517.90</td>\n",
       "      <td>debt  consolidation</td>\n",
       "      <td>I</td>\n",
       "      <td>0.0</td>\n",
       "      <td>0</td>\n",
       "    </tr>\n",
       "    <tr>\n",
       "      <th>87498</th>\n",
       "      <td>115343</td>\n",
       "      <td>2630667</td>\n",
       "      <td>III</td>\n",
       "      <td>1yrs</td>\n",
       "      <td>Source Verified</td>\n",
       "      <td>61600.00</td>\n",
       "      <td>MORTGAGE</td>\n",
       "      <td>0</td>\n",
       "      <td>0</td>\n",
       "      <td>PARTS CLERK</td>\n",
       "      <td>...</td>\n",
       "      <td>whole</td>\n",
       "      <td>PA</td>\n",
       "      <td>11</td>\n",
       "      <td>24900.0</td>\n",
       "      <td>3 years</td>\n",
       "      <td>8454.24</td>\n",
       "      <td>debt  consolidation</td>\n",
       "      <td>I</td>\n",
       "      <td>0.0</td>\n",
       "      <td>0</td>\n",
       "    </tr>\n",
       "    <tr>\n",
       "      <th>87499</th>\n",
       "      <td>104968</td>\n",
       "      <td>6637289</td>\n",
       "      <td>III</td>\n",
       "      <td>2yrs</td>\n",
       "      <td>Vfied</td>\n",
       "      <td>NaN</td>\n",
       "      <td>RENT</td>\n",
       "      <td>0</td>\n",
       "      <td>0</td>\n",
       "      <td>Outside sales rep</td>\n",
       "      <td>...</td>\n",
       "      <td>whole</td>\n",
       "      <td>California</td>\n",
       "      <td>7</td>\n",
       "      <td>21746.0</td>\n",
       "      <td>5 years</td>\n",
       "      <td>8717.58</td>\n",
       "      <td>debt  consolidation</td>\n",
       "      <td>I</td>\n",
       "      <td>0.0</td>\n",
       "      <td>0</td>\n",
       "    </tr>\n",
       "  </tbody>\n",
       "</table>\n",
       "<p>87500 rows × 30 columns</p>\n",
       "</div>"
      ],
      "text/plain": [
       "           ID  Asst_Reg GGGrade Experience       Validation  Yearly_Income  \\\n",
       "0       95074    421802      II     >10yrs            Vfied      633600.00   \n",
       "1      134131   3964312      IV       7yrs  Source Verified       85483.20   \n",
       "2       92602   4247560     III       <1yr  Source Verified       79200.00   \n",
       "3       22591    197179     III       <1yr            Vfied       61600.00   \n",
       "4      125060   4646684       V       2yrs  Source Verified       68053.92   \n",
       "...       ...       ...     ...        ...              ...            ...   \n",
       "87495  120884   4535984      II     >10yrs        Not Vfied       75680.00   \n",
       "87496   33259   2624710      IV       3yrs  Source Verified       90423.52   \n",
       "87497  102153   5966919      II     >10yrs  Source Verified       91520.00   \n",
       "87498  115343   2630667     III       1yrs  Source Verified       61600.00   \n",
       "87499  104968   6637289     III       2yrs            Vfied            NaN   \n",
       "\n",
       "      Home_Status  Unpaid_2_years  Already_Defaulted            Designation  \\\n",
       "0        MORTGAGE               0                  0        GLENDALE NISSAN   \n",
       "1            RENT               0                  0       Business Teacher   \n",
       "2            RENT               0                  0                 driver   \n",
       "3            RENT               0                  0               AvePoint   \n",
       "4            RENT               0                  0            Lead Tester   \n",
       "...           ...             ...                ...                    ...   \n",
       "87495        RENT               0                  0    Engineer Support II   \n",
       "87496        RENT               0                  0       Dental Hygienist   \n",
       "87497    MORTGAGE               0                  0  Interface Coordinator   \n",
       "87498    MORTGAGE               0                  0            PARTS CLERK   \n",
       "87499        RENT               0                  0      Outside sales rep   \n",
       "\n",
       "       ...  File_Status       State  Account_Open  Total_Unpaid_CL  Duration  \\\n",
       "0      ...   fully paid  California            17          58598.0   3 years   \n",
       "1      ...        whole          NC            15          18924.0   5 years   \n",
       "2      ...        whole     Florida             7          15604.0   5 years   \n",
       "3      ...   fully paid   NewJersey             9          22410.0   3 years   \n",
       "4      ...   fully paid          LA            10          36022.0   5 years   \n",
       "...    ...          ...         ...           ...              ...       ...   \n",
       "87495  ...        whole          MI            12          32702.0   3 years   \n",
       "87496  ...        whole          MA            23          32204.0   5 years   \n",
       "87497  ...   fully paid          CT             8          29050.0   3 years   \n",
       "87498  ...        whole          PA            11          24900.0   3 years   \n",
       "87499  ...        whole  California             7          21746.0   5 years   \n",
       "\n",
       "       Unpaid_Amount               Reason  Claim_Type  Due_Fee  Default  \n",
       "0           31216.05  debt  consolidation           I      0.0        0  \n",
       "1           11660.49  debt  consolidation           I      0.0        0  \n",
       "2            5637.87      major  purchase           I      0.0        0  \n",
       "3           15607.17      major  purchase           I      0.0        1  \n",
       "4           27472.86  debt  consolidation           I      0.0        0  \n",
       "...              ...                  ...         ...      ...      ...  \n",
       "87495       10012.05  debt  consolidation           I      0.0        0  \n",
       "87496       24921.54  debt  consolidation           I      0.0        0  \n",
       "87497       14517.90  debt  consolidation           I      0.0        0  \n",
       "87498        8454.24  debt  consolidation           I      0.0        0  \n",
       "87499        8717.58  debt  consolidation           I      0.0        0  \n",
       "\n",
       "[87500 rows x 30 columns]"
      ]
     },
     "execution_count": 4,
     "metadata": {},
     "output_type": "execute_result"
    }
   ],
   "source": [
    "df=pd. read_csv('Data_Train.xls')\n",
    "df"
   ]
  },
  {
   "cell_type": "code",
   "execution_count": 5,
   "id": "940b5f04-a991-4e75-9921-b47bf75f0a5b",
   "metadata": {},
   "outputs": [
    {
     "data": {
      "text/plain": [
       "Index(['ID', 'Asst_Reg', 'GGGrade', 'Experience', 'Validation',\n",
       "       'Yearly_Income', 'Home_Status', 'Unpaid_2_years', 'Already_Defaulted',\n",
       "       'Designation', 'Debt_to_Income', 'Postal_Code', 'Lend_Amount',\n",
       "       'Deprecatory_Records', 'Interest_Charged', 'Usage_Rate', 'Inquiries',\n",
       "       'Present_Balance', 'Gross_Collection', 'Sub_GGGrade', 'File_Status',\n",
       "       'State', 'Account_Open', 'Total_Unpaid_CL', 'Duration', 'Unpaid_Amount',\n",
       "       'Reason', 'Claim_Type', 'Due_Fee', 'Default'],\n",
       "      dtype='object')"
      ]
     },
     "execution_count": 5,
     "metadata": {},
     "output_type": "execute_result"
    }
   ],
   "source": [
    "df.columns"
   ]
  },
  {
   "cell_type": "code",
   "execution_count": 6,
   "id": "61555ce8-1529-468a-ab97-97e717c7430d",
   "metadata": {},
   "outputs": [
    {
     "data": {
      "text/plain": [
       "0        0\n",
       "1        0\n",
       "2        0\n",
       "3        0\n",
       "4        0\n",
       "        ..\n",
       "87495    0\n",
       "87496    0\n",
       "87497    3\n",
       "87498    1\n",
       "87499    1\n",
       "Name: Deprecatory_Records, Length: 87500, dtype: int64"
      ]
     },
     "execution_count": 6,
     "metadata": {},
     "output_type": "execute_result"
    }
   ],
   "source": [
    "df['Deprecatory_Records']"
   ]
  },
  {
   "cell_type": "code",
   "execution_count": 7,
   "id": "f018dce3-e767-4a78-88c2-1fb940c2f8cd",
   "metadata": {},
   "outputs": [
    {
     "data": {
      "text/plain": [
       "ID                       int64\n",
       "Asst_Reg                 int64\n",
       "GGGrade                 object\n",
       "Experience              object\n",
       "Validation              object\n",
       "Yearly_Income          float64\n",
       "Home_Status             object\n",
       "Unpaid_2_years           int64\n",
       "Already_Defaulted        int64\n",
       "Designation             object\n",
       "Debt_to_Income         float64\n",
       "Postal_Code            float64\n",
       "Lend_Amount            float64\n",
       "Deprecatory_Records      int64\n",
       "Interest_Charged       float64\n",
       "Usage_Rate             float64\n",
       "Inquiries                int64\n",
       "Present_Balance        float64\n",
       "Gross_Collection       float64\n",
       "Sub_GGGrade              int64\n",
       "File_Status             object\n",
       "State                   object\n",
       "Account_Open             int64\n",
       "Total_Unpaid_CL        float64\n",
       "Duration                object\n",
       "Unpaid_Amount          float64\n",
       "Reason                  object\n",
       "Claim_Type              object\n",
       "Due_Fee                float64\n",
       "Default                  int64\n",
       "dtype: object"
      ]
     },
     "execution_count": 7,
     "metadata": {},
     "output_type": "execute_result"
    }
   ],
   "source": [
    "df.dtypes"
   ]
  },
  {
   "cell_type": "code",
   "execution_count": 8,
   "id": "0b1f1e16-7d2f-4cec-af40-3599dc6abbe0",
   "metadata": {},
   "outputs": [],
   "source": [
    "df=df.drop(['ID','Asst_Reg', 'Account_Open', 'Postal_Code', 'State'],axis=1)"
   ]
  },
  {
   "cell_type": "code",
   "execution_count": 9,
   "id": "847738a8-8a19-48be-9a29-312387f174c3",
   "metadata": {},
   "outputs": [
    {
     "data": {
      "text/html": [
       "<div>\n",
       "<style scoped>\n",
       "    .dataframe tbody tr th:only-of-type {\n",
       "        vertical-align: middle;\n",
       "    }\n",
       "\n",
       "    .dataframe tbody tr th {\n",
       "        vertical-align: top;\n",
       "    }\n",
       "\n",
       "    .dataframe thead th {\n",
       "        text-align: right;\n",
       "    }\n",
       "</style>\n",
       "<table border=\"1\" class=\"dataframe\">\n",
       "  <thead>\n",
       "    <tr style=\"text-align: right;\">\n",
       "      <th></th>\n",
       "      <th>GGGrade</th>\n",
       "      <th>Experience</th>\n",
       "      <th>Validation</th>\n",
       "      <th>Yearly_Income</th>\n",
       "      <th>Home_Status</th>\n",
       "      <th>Unpaid_2_years</th>\n",
       "      <th>Already_Defaulted</th>\n",
       "      <th>Designation</th>\n",
       "      <th>Debt_to_Income</th>\n",
       "      <th>Lend_Amount</th>\n",
       "      <th>...</th>\n",
       "      <th>Gross_Collection</th>\n",
       "      <th>Sub_GGGrade</th>\n",
       "      <th>File_Status</th>\n",
       "      <th>Total_Unpaid_CL</th>\n",
       "      <th>Duration</th>\n",
       "      <th>Unpaid_Amount</th>\n",
       "      <th>Reason</th>\n",
       "      <th>Claim_Type</th>\n",
       "      <th>Due_Fee</th>\n",
       "      <th>Default</th>\n",
       "    </tr>\n",
       "  </thead>\n",
       "  <tbody>\n",
       "    <tr>\n",
       "      <th>0</th>\n",
       "      <td>II</td>\n",
       "      <td>&gt;10yrs</td>\n",
       "      <td>Vfied</td>\n",
       "      <td>633600.00</td>\n",
       "      <td>MORTGAGE</td>\n",
       "      <td>0</td>\n",
       "      <td>0</td>\n",
       "      <td>GLENDALE NISSAN</td>\n",
       "      <td>12.5496</td>\n",
       "      <td>42023.25</td>\n",
       "      <td>...</td>\n",
       "      <td>0.0</td>\n",
       "      <td>19</td>\n",
       "      <td>fully paid</td>\n",
       "      <td>58598.0</td>\n",
       "      <td>3 years</td>\n",
       "      <td>31216.05</td>\n",
       "      <td>debt  consolidation</td>\n",
       "      <td>I</td>\n",
       "      <td>0.0</td>\n",
       "      <td>0</td>\n",
       "    </tr>\n",
       "    <tr>\n",
       "      <th>1</th>\n",
       "      <td>IV</td>\n",
       "      <td>7yrs</td>\n",
       "      <td>Source Verified</td>\n",
       "      <td>85483.20</td>\n",
       "      <td>RENT</td>\n",
       "      <td>0</td>\n",
       "      <td>0</td>\n",
       "      <td>Business Teacher</td>\n",
       "      <td>9.0048</td>\n",
       "      <td>38133.00</td>\n",
       "      <td>...</td>\n",
       "      <td>0.0</td>\n",
       "      <td>30</td>\n",
       "      <td>whole</td>\n",
       "      <td>18924.0</td>\n",
       "      <td>5 years</td>\n",
       "      <td>11660.49</td>\n",
       "      <td>debt  consolidation</td>\n",
       "      <td>I</td>\n",
       "      <td>0.0</td>\n",
       "      <td>0</td>\n",
       "    </tr>\n",
       "    <tr>\n",
       "      <th>2</th>\n",
       "      <td>III</td>\n",
       "      <td>&lt;1yr</td>\n",
       "      <td>Source Verified</td>\n",
       "      <td>79200.00</td>\n",
       "      <td>RENT</td>\n",
       "      <td>0</td>\n",
       "      <td>0</td>\n",
       "      <td>driver</td>\n",
       "      <td>24.9144</td>\n",
       "      <td>17100.00</td>\n",
       "      <td>...</td>\n",
       "      <td>0.0</td>\n",
       "      <td>25</td>\n",
       "      <td>whole</td>\n",
       "      <td>15604.0</td>\n",
       "      <td>5 years</td>\n",
       "      <td>5637.87</td>\n",
       "      <td>major  purchase</td>\n",
       "      <td>I</td>\n",
       "      <td>0.0</td>\n",
       "      <td>0</td>\n",
       "    </tr>\n",
       "    <tr>\n",
       "      <th>3</th>\n",
       "      <td>III</td>\n",
       "      <td>&lt;1yr</td>\n",
       "      <td>Vfied</td>\n",
       "      <td>61600.00</td>\n",
       "      <td>RENT</td>\n",
       "      <td>0</td>\n",
       "      <td>0</td>\n",
       "      <td>AvePoint</td>\n",
       "      <td>16.5816</td>\n",
       "      <td>5130.00</td>\n",
       "      <td>...</td>\n",
       "      <td>0.0</td>\n",
       "      <td>22</td>\n",
       "      <td>fully paid</td>\n",
       "      <td>22410.0</td>\n",
       "      <td>3 years</td>\n",
       "      <td>15607.17</td>\n",
       "      <td>major  purchase</td>\n",
       "      <td>I</td>\n",
       "      <td>0.0</td>\n",
       "      <td>1</td>\n",
       "    </tr>\n",
       "    <tr>\n",
       "      <th>4</th>\n",
       "      <td>V</td>\n",
       "      <td>2yrs</td>\n",
       "      <td>Source Verified</td>\n",
       "      <td>68053.92</td>\n",
       "      <td>RENT</td>\n",
       "      <td>0</td>\n",
       "      <td>0</td>\n",
       "      <td>Lead Tester</td>\n",
       "      <td>40.0512</td>\n",
       "      <td>19665.00</td>\n",
       "      <td>...</td>\n",
       "      <td>0.0</td>\n",
       "      <td>32</td>\n",
       "      <td>fully paid</td>\n",
       "      <td>36022.0</td>\n",
       "      <td>5 years</td>\n",
       "      <td>27472.86</td>\n",
       "      <td>debt  consolidation</td>\n",
       "      <td>I</td>\n",
       "      <td>0.0</td>\n",
       "      <td>0</td>\n",
       "    </tr>\n",
       "    <tr>\n",
       "      <th>...</th>\n",
       "      <td>...</td>\n",
       "      <td>...</td>\n",
       "      <td>...</td>\n",
       "      <td>...</td>\n",
       "      <td>...</td>\n",
       "      <td>...</td>\n",
       "      <td>...</td>\n",
       "      <td>...</td>\n",
       "      <td>...</td>\n",
       "      <td>...</td>\n",
       "      <td>...</td>\n",
       "      <td>...</td>\n",
       "      <td>...</td>\n",
       "      <td>...</td>\n",
       "      <td>...</td>\n",
       "      <td>...</td>\n",
       "      <td>...</td>\n",
       "      <td>...</td>\n",
       "      <td>...</td>\n",
       "      <td>...</td>\n",
       "      <td>...</td>\n",
       "    </tr>\n",
       "    <tr>\n",
       "      <th>87495</th>\n",
       "      <td>II</td>\n",
       "      <td>&gt;10yrs</td>\n",
       "      <td>Not Vfied</td>\n",
       "      <td>75680.00</td>\n",
       "      <td>RENT</td>\n",
       "      <td>0</td>\n",
       "      <td>0</td>\n",
       "      <td>Engineer Support II</td>\n",
       "      <td>19.3200</td>\n",
       "      <td>10260.00</td>\n",
       "      <td>...</td>\n",
       "      <td>0.0</td>\n",
       "      <td>17</td>\n",
       "      <td>whole</td>\n",
       "      <td>32702.0</td>\n",
       "      <td>3 years</td>\n",
       "      <td>10012.05</td>\n",
       "      <td>debt  consolidation</td>\n",
       "      <td>I</td>\n",
       "      <td>0.0</td>\n",
       "      <td>0</td>\n",
       "    </tr>\n",
       "    <tr>\n",
       "      <th>87496</th>\n",
       "      <td>IV</td>\n",
       "      <td>3yrs</td>\n",
       "      <td>Source Verified</td>\n",
       "      <td>90423.52</td>\n",
       "      <td>RENT</td>\n",
       "      <td>0</td>\n",
       "      <td>0</td>\n",
       "      <td>Dental Hygienist</td>\n",
       "      <td>48.8208</td>\n",
       "      <td>27360.00</td>\n",
       "      <td>...</td>\n",
       "      <td>0.0</td>\n",
       "      <td>28</td>\n",
       "      <td>whole</td>\n",
       "      <td>32204.0</td>\n",
       "      <td>5 years</td>\n",
       "      <td>24921.54</td>\n",
       "      <td>debt  consolidation</td>\n",
       "      <td>I</td>\n",
       "      <td>0.0</td>\n",
       "      <td>0</td>\n",
       "    </tr>\n",
       "    <tr>\n",
       "      <th>87497</th>\n",
       "      <td>II</td>\n",
       "      <td>&gt;10yrs</td>\n",
       "      <td>Source Verified</td>\n",
       "      <td>91520.00</td>\n",
       "      <td>MORTGAGE</td>\n",
       "      <td>0</td>\n",
       "      <td>0</td>\n",
       "      <td>Interface Coordinator</td>\n",
       "      <td>7.7952</td>\n",
       "      <td>8550.00</td>\n",
       "      <td>...</td>\n",
       "      <td>0.0</td>\n",
       "      <td>16</td>\n",
       "      <td>fully paid</td>\n",
       "      <td>29050.0</td>\n",
       "      <td>3 years</td>\n",
       "      <td>14517.90</td>\n",
       "      <td>debt  consolidation</td>\n",
       "      <td>I</td>\n",
       "      <td>0.0</td>\n",
       "      <td>0</td>\n",
       "    </tr>\n",
       "    <tr>\n",
       "      <th>87498</th>\n",
       "      <td>III</td>\n",
       "      <td>1yrs</td>\n",
       "      <td>Source Verified</td>\n",
       "      <td>61600.00</td>\n",
       "      <td>MORTGAGE</td>\n",
       "      <td>0</td>\n",
       "      <td>0</td>\n",
       "      <td>PARTS CLERK</td>\n",
       "      <td>8.2992</td>\n",
       "      <td>23769.00</td>\n",
       "      <td>...</td>\n",
       "      <td>0.0</td>\n",
       "      <td>25</td>\n",
       "      <td>whole</td>\n",
       "      <td>24900.0</td>\n",
       "      <td>3 years</td>\n",
       "      <td>8454.24</td>\n",
       "      <td>debt  consolidation</td>\n",
       "      <td>I</td>\n",
       "      <td>0.0</td>\n",
       "      <td>0</td>\n",
       "    </tr>\n",
       "    <tr>\n",
       "      <th>87499</th>\n",
       "      <td>III</td>\n",
       "      <td>2yrs</td>\n",
       "      <td>Vfied</td>\n",
       "      <td>NaN</td>\n",
       "      <td>RENT</td>\n",
       "      <td>0</td>\n",
       "      <td>0</td>\n",
       "      <td>Outside sales rep</td>\n",
       "      <td>15.1872</td>\n",
       "      <td>28471.50</td>\n",
       "      <td>...</td>\n",
       "      <td>0.0</td>\n",
       "      <td>25</td>\n",
       "      <td>whole</td>\n",
       "      <td>21746.0</td>\n",
       "      <td>5 years</td>\n",
       "      <td>8717.58</td>\n",
       "      <td>debt  consolidation</td>\n",
       "      <td>I</td>\n",
       "      <td>0.0</td>\n",
       "      <td>0</td>\n",
       "    </tr>\n",
       "  </tbody>\n",
       "</table>\n",
       "<p>87500 rows × 25 columns</p>\n",
       "</div>"
      ],
      "text/plain": [
       "      GGGrade Experience       Validation  Yearly_Income Home_Status  \\\n",
       "0          II     >10yrs            Vfied      633600.00    MORTGAGE   \n",
       "1          IV       7yrs  Source Verified       85483.20        RENT   \n",
       "2         III       <1yr  Source Verified       79200.00        RENT   \n",
       "3         III       <1yr            Vfied       61600.00        RENT   \n",
       "4           V       2yrs  Source Verified       68053.92        RENT   \n",
       "...       ...        ...              ...            ...         ...   \n",
       "87495      II     >10yrs        Not Vfied       75680.00        RENT   \n",
       "87496      IV       3yrs  Source Verified       90423.52        RENT   \n",
       "87497      II     >10yrs  Source Verified       91520.00    MORTGAGE   \n",
       "87498     III       1yrs  Source Verified       61600.00    MORTGAGE   \n",
       "87499     III       2yrs            Vfied            NaN        RENT   \n",
       "\n",
       "       Unpaid_2_years  Already_Defaulted            Designation  \\\n",
       "0                   0                  0        GLENDALE NISSAN   \n",
       "1                   0                  0       Business Teacher   \n",
       "2                   0                  0                 driver   \n",
       "3                   0                  0               AvePoint   \n",
       "4                   0                  0            Lead Tester   \n",
       "...               ...                ...                    ...   \n",
       "87495               0                  0    Engineer Support II   \n",
       "87496               0                  0       Dental Hygienist   \n",
       "87497               0                  0  Interface Coordinator   \n",
       "87498               0                  0            PARTS CLERK   \n",
       "87499               0                  0      Outside sales rep   \n",
       "\n",
       "       Debt_to_Income  Lend_Amount  ...  Gross_Collection  Sub_GGGrade  \\\n",
       "0             12.5496     42023.25  ...               0.0           19   \n",
       "1              9.0048     38133.00  ...               0.0           30   \n",
       "2             24.9144     17100.00  ...               0.0           25   \n",
       "3             16.5816      5130.00  ...               0.0           22   \n",
       "4             40.0512     19665.00  ...               0.0           32   \n",
       "...               ...          ...  ...               ...          ...   \n",
       "87495         19.3200     10260.00  ...               0.0           17   \n",
       "87496         48.8208     27360.00  ...               0.0           28   \n",
       "87497          7.7952      8550.00  ...               0.0           16   \n",
       "87498          8.2992     23769.00  ...               0.0           25   \n",
       "87499         15.1872     28471.50  ...               0.0           25   \n",
       "\n",
       "       File_Status  Total_Unpaid_CL  Duration  Unpaid_Amount  \\\n",
       "0       fully paid          58598.0   3 years       31216.05   \n",
       "1            whole          18924.0   5 years       11660.49   \n",
       "2            whole          15604.0   5 years        5637.87   \n",
       "3       fully paid          22410.0   3 years       15607.17   \n",
       "4       fully paid          36022.0   5 years       27472.86   \n",
       "...            ...              ...       ...            ...   \n",
       "87495        whole          32702.0   3 years       10012.05   \n",
       "87496        whole          32204.0   5 years       24921.54   \n",
       "87497   fully paid          29050.0   3 years       14517.90   \n",
       "87498        whole          24900.0   3 years        8454.24   \n",
       "87499        whole          21746.0   5 years        8717.58   \n",
       "\n",
       "                    Reason Claim_Type  Due_Fee Default  \n",
       "0      debt  consolidation          I      0.0       0  \n",
       "1      debt  consolidation          I      0.0       0  \n",
       "2          major  purchase          I      0.0       0  \n",
       "3          major  purchase          I      0.0       1  \n",
       "4      debt  consolidation          I      0.0       0  \n",
       "...                    ...        ...      ...     ...  \n",
       "87495  debt  consolidation          I      0.0       0  \n",
       "87496  debt  consolidation          I      0.0       0  \n",
       "87497  debt  consolidation          I      0.0       0  \n",
       "87498  debt  consolidation          I      0.0       0  \n",
       "87499  debt  consolidation          I      0.0       0  \n",
       "\n",
       "[87500 rows x 25 columns]"
      ]
     },
     "execution_count": 9,
     "metadata": {},
     "output_type": "execute_result"
    }
   ],
   "source": [
    "df"
   ]
  },
  {
   "cell_type": "code",
   "execution_count": 10,
   "id": "4850bd09-b4d1-4553-97eb-a84a54052290",
   "metadata": {},
   "outputs": [
    {
     "data": {
      "text/plain": [
       "GGGrade                   0\n",
       "Experience                0\n",
       "Validation                0\n",
       "Yearly_Income          5575\n",
       "Home_Status               0\n",
       "Unpaid_2_years            0\n",
       "Already_Defaulted         0\n",
       "Designation            1414\n",
       "Debt_to_Income         3489\n",
       "Lend_Amount               0\n",
       "Deprecatory_Records       0\n",
       "Interest_Charged          0\n",
       "Usage_Rate                0\n",
       "Inquiries                 0\n",
       "Present_Balance           0\n",
       "Gross_Collection          0\n",
       "Sub_GGGrade               0\n",
       "File_Status               0\n",
       "Total_Unpaid_CL        4186\n",
       "Duration                  0\n",
       "Unpaid_Amount          4852\n",
       "Reason                    0\n",
       "Claim_Type                0\n",
       "Due_Fee                   0\n",
       "Default                   0\n",
       "dtype: int64"
      ]
     },
     "execution_count": 10,
     "metadata": {},
     "output_type": "execute_result"
    }
   ],
   "source": [
    "df.isnull().sum()"
   ]
  },
  {
   "cell_type": "code",
   "execution_count": 11,
   "id": "ed285a0b-2524-401f-8925-83e929ab2605",
   "metadata": {},
   "outputs": [
    {
     "data": {
      "text/plain": [
       "GGGrade                0.000000\n",
       "Experience             0.000000\n",
       "Validation             0.000000\n",
       "Yearly_Income          0.063714\n",
       "Home_Status            0.000000\n",
       "Unpaid_2_years         0.000000\n",
       "Already_Defaulted      0.000000\n",
       "Designation            0.016160\n",
       "Debt_to_Income         0.039874\n",
       "Lend_Amount            0.000000\n",
       "Deprecatory_Records    0.000000\n",
       "Interest_Charged       0.000000\n",
       "Usage_Rate             0.000000\n",
       "Inquiries              0.000000\n",
       "Present_Balance        0.000000\n",
       "Gross_Collection       0.000000\n",
       "Sub_GGGrade            0.000000\n",
       "File_Status            0.000000\n",
       "Total_Unpaid_CL        0.047840\n",
       "Duration               0.000000\n",
       "Unpaid_Amount          0.055451\n",
       "Reason                 0.000000\n",
       "Claim_Type             0.000000\n",
       "Due_Fee                0.000000\n",
       "Default                0.000000\n",
       "dtype: float64"
      ]
     },
     "execution_count": 11,
     "metadata": {},
     "output_type": "execute_result"
    }
   ],
   "source": [
    "df.isnull().mean()"
   ]
  },
  {
   "cell_type": "code",
   "execution_count": 12,
   "id": "f3c78be0-c55a-4433-ba6b-3a5c3e46e4db",
   "metadata": {},
   "outputs": [
    {
     "data": {
      "text/plain": [
       "np.float64(134859.62977978395)"
      ]
     },
     "execution_count": 12,
     "metadata": {},
     "output_type": "execute_result"
    }
   ],
   "source": [
    "df['Yearly_Income'].mean()"
   ]
  },
  {
   "cell_type": "code",
   "execution_count": 13,
   "id": "d0e895cf-6f2e-434b-a23c-93116a2728e4",
   "metadata": {},
   "outputs": [
    {
     "name": "stderr",
     "output_type": "stream",
     "text": [
      "C:\\Users\\User\\AppData\\Local\\Temp\\ipykernel_8216\\1485892732.py:1: FutureWarning: A value is trying to be set on a copy of a DataFrame or Series through chained assignment using an inplace method.\n",
      "The behavior will change in pandas 3.0. This inplace method will never work because the intermediate object on which we are setting values always behaves as a copy.\n",
      "\n",
      "For example, when doing 'df[col].method(value, inplace=True)', try using 'df.method({col: value}, inplace=True)' or df[col] = df[col].method(value) instead, to perform the operation inplace on the original object.\n",
      "\n",
      "\n",
      "  df['Yearly_Income'].fillna(df['Yearly_Income'].mean(),inplace=True)\n"
     ]
    }
   ],
   "source": [
    "df['Yearly_Income'].fillna(df['Yearly_Income'].mean(),inplace=True)"
   ]
  },
  {
   "cell_type": "code",
   "execution_count": 14,
   "id": "51f61006-cf0b-4980-8031-6dad5c788cf0",
   "metadata": {},
   "outputs": [
    {
     "data": {
      "text/plain": [
       "GGGrade                0.000000\n",
       "Experience             0.000000\n",
       "Validation             0.000000\n",
       "Yearly_Income          0.000000\n",
       "Home_Status            0.000000\n",
       "Unpaid_2_years         0.000000\n",
       "Already_Defaulted      0.000000\n",
       "Designation            0.016160\n",
       "Debt_to_Income         0.039874\n",
       "Lend_Amount            0.000000\n",
       "Deprecatory_Records    0.000000\n",
       "Interest_Charged       0.000000\n",
       "Usage_Rate             0.000000\n",
       "Inquiries              0.000000\n",
       "Present_Balance        0.000000\n",
       "Gross_Collection       0.000000\n",
       "Sub_GGGrade            0.000000\n",
       "File_Status            0.000000\n",
       "Total_Unpaid_CL        0.047840\n",
       "Duration               0.000000\n",
       "Unpaid_Amount          0.055451\n",
       "Reason                 0.000000\n",
       "Claim_Type             0.000000\n",
       "Due_Fee                0.000000\n",
       "Default                0.000000\n",
       "dtype: float64"
      ]
     },
     "execution_count": 14,
     "metadata": {},
     "output_type": "execute_result"
    }
   ],
   "source": [
    "df.isnull().mean()"
   ]
  },
  {
   "cell_type": "code",
   "execution_count": 15,
   "id": "ce2df2c9-deb7-4a72-b7ca-cd0ce6c0e3b3",
   "metadata": {},
   "outputs": [
    {
     "data": {
      "text/plain": [
       "0    School Teacher\n",
       "Name: Designation, dtype: object"
      ]
     },
     "execution_count": 15,
     "metadata": {},
     "output_type": "execute_result"
    }
   ],
   "source": [
    "df['Designation'].mode()"
   ]
  },
  {
   "cell_type": "code",
   "execution_count": 16,
   "id": "b8cb7790-60c5-408b-b4fc-ea840c21499e",
   "metadata": {},
   "outputs": [
    {
     "data": {
      "text/plain": [
       "'School Teacher'"
      ]
     },
     "execution_count": 16,
     "metadata": {},
     "output_type": "execute_result"
    }
   ],
   "source": [
    "df['Designation'].mode()[0]"
   ]
  },
  {
   "cell_type": "code",
   "execution_count": 17,
   "id": "170200f5-f1b5-45f6-bb5e-f8e9bbd93895",
   "metadata": {},
   "outputs": [
    {
     "name": "stderr",
     "output_type": "stream",
     "text": [
      "C:\\Users\\User\\AppData\\Local\\Temp\\ipykernel_8216\\3530409744.py:1: FutureWarning: A value is trying to be set on a copy of a DataFrame or Series through chained assignment using an inplace method.\n",
      "The behavior will change in pandas 3.0. This inplace method will never work because the intermediate object on which we are setting values always behaves as a copy.\n",
      "\n",
      "For example, when doing 'df[col].method(value, inplace=True)', try using 'df.method({col: value}, inplace=True)' or df[col] = df[col].method(value) instead, to perform the operation inplace on the original object.\n",
      "\n",
      "\n",
      "  df['Designation'].fillna(df['Designation'].mode()[0],inplace=True)\n"
     ]
    }
   ],
   "source": [
    "df['Designation'].fillna(df['Designation'].mode()[0],inplace=True)"
   ]
  },
  {
   "cell_type": "code",
   "execution_count": 18,
   "id": "0065ff57-57a1-4153-a3c1-94a10a18fb00",
   "metadata": {},
   "outputs": [
    {
     "name": "stderr",
     "output_type": "stream",
     "text": [
      "C:\\Users\\User\\AppData\\Local\\Temp\\ipykernel_8216\\3568965470.py:1: FutureWarning: A value is trying to be set on a copy of a DataFrame or Series through chained assignment using an inplace method.\n",
      "The behavior will change in pandas 3.0. This inplace method will never work because the intermediate object on which we are setting values always behaves as a copy.\n",
      "\n",
      "For example, when doing 'df[col].method(value, inplace=True)', try using 'df.method({col: value}, inplace=True)' or df[col] = df[col].method(value) instead, to perform the operation inplace on the original object.\n",
      "\n",
      "\n",
      "  df['Debt_to_Income'].fillna(df['Debt_to_Income'].mean(), inplace=True)\n"
     ]
    }
   ],
   "source": [
    "df['Debt_to_Income'].fillna(df['Debt_to_Income'].mean(), inplace=True)"
   ]
  },
  {
   "cell_type": "code",
   "execution_count": 19,
   "id": "6957fec2-e907-442d-8357-f6ceab481de7",
   "metadata": {},
   "outputs": [
    {
     "name": "stderr",
     "output_type": "stream",
     "text": [
      "C:\\Users\\User\\AppData\\Local\\Temp\\ipykernel_8216\\2538585910.py:1: FutureWarning: A value is trying to be set on a copy of a DataFrame or Series through chained assignment using an inplace method.\n",
      "The behavior will change in pandas 3.0. This inplace method will never work because the intermediate object on which we are setting values always behaves as a copy.\n",
      "\n",
      "For example, when doing 'df[col].method(value, inplace=True)', try using 'df.method({col: value}, inplace=True)' or df[col] = df[col].method(value) instead, to perform the operation inplace on the original object.\n",
      "\n",
      "\n",
      "  df['Total_Unpaid_CL'].fillna(df['Total_Unpaid_CL'].mean(), inplace=True)\n"
     ]
    }
   ],
   "source": [
    "df['Total_Unpaid_CL'].fillna(df['Total_Unpaid_CL'].mean(), inplace=True)"
   ]
  },
  {
   "cell_type": "code",
   "execution_count": 20,
   "id": "bf3eb2c8-e4b3-42eb-83c5-86ebb02df4ba",
   "metadata": {},
   "outputs": [
    {
     "name": "stderr",
     "output_type": "stream",
     "text": [
      "C:\\Users\\User\\AppData\\Local\\Temp\\ipykernel_8216\\628963163.py:1: FutureWarning: A value is trying to be set on a copy of a DataFrame or Series through chained assignment using an inplace method.\n",
      "The behavior will change in pandas 3.0. This inplace method will never work because the intermediate object on which we are setting values always behaves as a copy.\n",
      "\n",
      "For example, when doing 'df[col].method(value, inplace=True)', try using 'df.method({col: value}, inplace=True)' or df[col] = df[col].method(value) instead, to perform the operation inplace on the original object.\n",
      "\n",
      "\n",
      "  df['Unpaid_Amount'].fillna(df['Unpaid_Amount'].mean(), inplace=True)\n"
     ]
    }
   ],
   "source": [
    "df['Unpaid_Amount'].fillna(df['Unpaid_Amount'].mean(), inplace=True)"
   ]
  },
  {
   "cell_type": "code",
   "execution_count": 21,
   "id": "b3428f8a-7044-4e86-ba21-0ee93a3d4fbd",
   "metadata": {},
   "outputs": [
    {
     "data": {
      "text/plain": [
       "GGGrade                0\n",
       "Experience             0\n",
       "Validation             0\n",
       "Yearly_Income          0\n",
       "Home_Status            0\n",
       "Unpaid_2_years         0\n",
       "Already_Defaulted      0\n",
       "Designation            0\n",
       "Debt_to_Income         0\n",
       "Lend_Amount            0\n",
       "Deprecatory_Records    0\n",
       "Interest_Charged       0\n",
       "Usage_Rate             0\n",
       "Inquiries              0\n",
       "Present_Balance        0\n",
       "Gross_Collection       0\n",
       "Sub_GGGrade            0\n",
       "File_Status            0\n",
       "Total_Unpaid_CL        0\n",
       "Duration               0\n",
       "Unpaid_Amount          0\n",
       "Reason                 0\n",
       "Claim_Type             0\n",
       "Due_Fee                0\n",
       "Default                0\n",
       "dtype: int64"
      ]
     },
     "execution_count": 21,
     "metadata": {},
     "output_type": "execute_result"
    }
   ],
   "source": [
    "df.isnull().sum()"
   ]
  },
  {
   "cell_type": "code",
   "execution_count": 22,
   "id": "6d7794c5-9780-49e5-98c2-58befcd916df",
   "metadata": {},
   "outputs": [],
   "source": [
    "import seaborn as sns\n",
    "import matplotlib.pyplot as plt"
   ]
  },
  {
   "cell_type": "code",
   "execution_count": 23,
   "id": "4c3956cd-9964-4508-b96a-57c3f35f8976",
   "metadata": {},
   "outputs": [
    {
     "data": {
      "image/png": "[encoded data removed]",
      "text/plain": [
       "<Figure size 1200x800 with 1 Axes>"
      ]
     },
     "metadata": {},
     "output_type": "display_data"
    }
   ],
   "source": [
    "plt.figure(figsize=(12,8))\n",
    "sns.countplot(x='Home_Status',data=df)\n",
    "plt.title('countplot of home_status', fontsize=18, color='#A50044')\n",
    "plt.xlabel('Home Status of Person')\n",
    "plt.ylabel('Frequency')\n",
    "plt.show()\n",
    "#pit.xticks(rotation=90) If label is conjusted in down\n",
    "#pit.yticks(rotation=45) for side ie.y"
   ]
  },
  {
   "cell_type": "code",
   "execution_count": 24,
   "id": "f693966c-0cd9-470d-ac47-5bf3a3e85098",
   "metadata": {},
   "outputs": [
    {
     "name": "stderr",
     "output_type": "stream",
     "text": [
      "C:\\Users\\User\\AppData\\Local\\Temp\\ipykernel_8216\\1521551054.py:1: FutureWarning: \n",
      "\n",
      "Passing `palette` without assigning `hue` is deprecated and will be removed in v0.14.0. Assign the `x` variable to `hue` and set `legend=False` for the same effect.\n",
      "\n",
      "  sns.barplot(x='Home_Status', y='Yearly_Income', data=df, palette=['Red', 'Blue', 'Gold', 'Silver', 'Brown'])\n"
     ]
    },
    {
     "data": {
      "text/plain": [
       "<Axes: xlabel='Home_Status', ylabel='Yearly_Income'>"
      ]
     },
     "execution_count": 24,
     "metadata": {},
     "output_type": "execute_result"
    },
    {
     "data": {
      "image/png": "[encoded data removed]",
      "text/plain": [
       "<Figure size 640x480 with 1 Axes>"
      ]
     },
     "metadata": {},
     "output_type": "display_data"
    }
   ],
   "source": [
    "sns.barplot(x='Home_Status', y='Yearly_Income', data=df, palette=['Red', 'Blue', 'Gold', 'Silver', 'Brown'])"
   ]
  },
  {
   "cell_type": "code",
   "execution_count": 25,
   "id": "c722b95b-d771-4ff6-b52a-df1ec361f340",
   "metadata": {},
   "outputs": [
    {
     "data": {
      "text/plain": [
       "<Axes: ylabel='count'>"
      ]
     },
     "execution_count": 25,
     "metadata": {},
     "output_type": "execute_result"
    },
    {
     "data": {
      "image/png": "[encoded data removed]",
      "text/plain": [
       "<Figure size 640x480 with 1 Axes>"
      ]
     },
     "metadata": {},
     "output_type": "display_data"
    }
   ],
   "source": [
    "df['Home_Status'].value_counts().plot(kind='pie',autopct='%1.3f%%',colors=['Red', 'Blue', 'Gold', 'Silver', 'Brown']) #startangle=180"
   ]
  },
  {
   "cell_type": "code",
   "execution_count": 26,
   "id": "56ee7de8-6181-4990-a3ca-7ab2471fe09b",
   "metadata": {},
   "outputs": [
    {
     "data": {
      "text/plain": [
       "<Axes: xlabel='Debt_to_Income', ylabel='Yearly_Income'>"
      ]
     },
     "execution_count": 26,
     "metadata": {},
     "output_type": "execute_result"
    },
    {
     "data": {
      "image/png": "[encoded data removed]",
      "text/plain": [
       "<Figure size 640x480 with 1 Axes>"
      ]
     },
     "metadata": {},
     "output_type": "display_data"
    }
   ],
   "source": [
    "sns.barplot(x='Debt_to_Income', y='Yearly_Income', data=df)"
   ]
  },
  {
   "cell_type": "code",
   "execution_count": 27,
   "id": "e7fcc29f-3dc5-47c8-ab18-0056310b1740",
   "metadata": {},
   "outputs": [
    {
     "data": {
      "text/plain": [
       "<Axes: xlabel='Debt_to_Income', ylabel='Yearly_Income'>"
      ]
     },
     "execution_count": 27,
     "metadata": {},
     "output_type": "execute_result"
    },
    {
     "data": {
      "image/png": "[encoded data removed]",
      "text/plain": [
       "<Figure size 640x480 with 1 Axes>"
      ]
     },
     "metadata": {},
     "output_type": "display_data"
    }
   ],
   "source": [
    "sns.barplot(x='Debt_to_Income', y='Yearly_Income', data=df.sample(1000))"
   ]
  },
  {
   "cell_type": "code",
   "execution_count": 41,
   "id": "072b5402-cac2-47e1-aad1-64b23f0e2db7",
   "metadata": {},
   "outputs": [
    {
     "data": {
      "text/plain": [
       "<Axes: xlabel='Lend_Amount', ylabel='Yearly_Income'>"
      ]
     },
     "execution_count": 41,
     "metadata": {},
     "output_type": "execute_result"
    },
    {
     "data": {
      "image/png": "[encoded data removed]",
      "text/plain": [
       "<Figure size 640x480 with 1 Axes>"
      ]
     },
     "metadata": {},
     "output_type": "display_data"
    }
   ],
   "source": [
    "sns.scatterplot(x='Lend_Amount', y='Yearly_Income', data=df, color='Red', marker='D', alpha=0.4) #D for Diamond"
   ]
  },
  {
   "cell_type": "code",
   "execution_count": null,
   "id": "b5bc3503-fddd-4a92-966a-b087c5ceab2a",
   "metadata": {},
   "outputs": [],
   "source": []
  }
 ],
 "metadata": {
  "kernelspec": {
   "display_name": "Python 3 (ipykernel)",
   "language": "python",
   "name": "python3"
  },
  "language_info": {
   "codemirror_mode": {
    "name": "ipython",
    "version": 3
   },
   "file_extension": ".py",
   "mimetype": "text/x-python",
   "name": "python",
   "nbconvert_exporter": "python",
   "pygments_lexer": "ipython3",
   "version": "3.13.4"
  }
 },
 "nbformat": 4,
 "nbformat_minor": 5
}
